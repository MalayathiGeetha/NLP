{
  "nbformat": 4,
  "nbformat_minor": 0,
  "metadata": {
    "colab": {
      "provenance": [],
      "gpuType": "T4",
      "authorship_tag": "ABX9TyOqzA3oTuPPfz9IHLnZx5Z/",
      "include_colab_link": true
    },
    "kernelspec": {
      "name": "python3",
      "display_name": "Python 3"
    },
    "language_info": {
      "name": "python"
    },
    "accelerator": "GPU"
  },
  "cells": [
    {
      "cell_type": "markdown",
      "metadata": {
        "id": "view-in-github",
        "colab_type": "text"
      },
      "source": [
        "<a href=\"https://colab.research.google.com/github/MalayathiGeetha/NLP/blob/main/Word_Embedding.ipynb\" target=\"_parent\"><img src=\"https://colab.research.google.com/assets/colab-badge.svg\" alt=\"Open In Colab\"/></a>"
      ]
    },
    {
      "cell_type": "code",
      "source": [],
      "metadata": {
        "id": "yQLOW_8urvm-"
      },
      "execution_count": 18,
      "outputs": []
    },
    {
      "cell_type": "code",
      "execution_count": 19,
      "metadata": {
        "id": "7rBLc_hIqavV"
      },
      "outputs": [],
      "source": [
        "from tensorflow.keras.preprocessing.text import one_hot"
      ]
    },
    {
      "cell_type": "code",
      "source": [
        "!pip install tensorflow-gpu"
      ],
      "metadata": {
        "colab": {
          "base_uri": "https://localhost:8080/"
        },
        "id": "2ImfiO-XrwEQ",
        "outputId": "231a49fd-c0c9-4d40-e772-746a0f663db9"
      },
      "execution_count": 20,
      "outputs": [
        {
          "output_type": "stream",
          "name": "stdout",
          "text": [
            "Collecting tensorflow-gpu\n",
            "  Using cached tensorflow-gpu-2.12.0.tar.gz (2.6 kB)\n",
            "  \u001b[1;31merror\u001b[0m: \u001b[1msubprocess-exited-with-error\u001b[0m\n",
            "  \n",
            "  \u001b[31m×\u001b[0m \u001b[32mpython setup.py egg_info\u001b[0m did not run successfully.\n",
            "  \u001b[31m│\u001b[0m exit code: \u001b[1;36m1\u001b[0m\n",
            "  \u001b[31m╰─>\u001b[0m See above for output.\n",
            "  \n",
            "  \u001b[1;35mnote\u001b[0m: This error originates from a subprocess, and is likely not a problem with pip.\n",
            "  Preparing metadata (setup.py) ... \u001b[?25l\u001b[?25herror\n",
            "\u001b[1;31merror\u001b[0m: \u001b[1mmetadata-generation-failed\u001b[0m\n",
            "\n",
            "\u001b[31m×\u001b[0m Encountered error while generating package metadata.\n",
            "\u001b[31m╰─>\u001b[0m See above for output.\n",
            "\n",
            "\u001b[1;35mnote\u001b[0m: This is an issue with the package mentioned above, not pip.\n",
            "\u001b[1;36mhint\u001b[0m: See above for details.\n"
          ]
        }
      ]
    },
    {
      "cell_type": "code",
      "source": [
        "sent=[  'the glass of milk',\n",
        "     'the glass of juice',\n",
        "     'the cup of tea',\n",
        "    'I am a good boy',\n",
        "     'I am a good developer',\n",
        "     'understand the meaning of words',\n",
        "     'your videos are good',]"
      ],
      "metadata": {
        "id": "EXafJngCtIIc"
      },
      "execution_count": 21,
      "outputs": []
    },
    {
      "cell_type": "code",
      "source": [
        "voc_size=10000"
      ],
      "metadata": {
        "id": "JaW9-WMztLfN"
      },
      "execution_count": 22,
      "outputs": []
    },
    {
      "cell_type": "code",
      "source": [
        "onehot_repr=[one_hot(words,voc_size)for words in sent]\n",
        "print(onehot_repr)"
      ],
      "metadata": {
        "colab": {
          "base_uri": "https://localhost:8080/"
        },
        "id": "HiCF174mtQFv",
        "outputId": "5aa01d29-0e52-47e6-a85b-a21d62a478e3"
      },
      "execution_count": 23,
      "outputs": [
        {
          "output_type": "stream",
          "name": "stdout",
          "text": [
            "[[2340, 8978, 108, 2313], [2340, 8978, 108, 676], [2340, 2152, 108, 5477], [3852, 1125, 7259, 1332, 6471], [3852, 1125, 7259, 1332, 2092], [5805, 2340, 6079, 108, 683], [4106, 9685, 7396, 1332]]\n"
          ]
        }
      ]
    },
    {
      "cell_type": "code",
      "source": [
        "from tensorflow.keras.layers import Embedding\n",
        "from tensorflow.keras.preprocessing.sequence import pad_sequences\n",
        "from tensorflow.keras.models import Sequential\n",
        "import numpy as np"
      ],
      "metadata": {
        "id": "RyAN72C4tU2s"
      },
      "execution_count": 24,
      "outputs": []
    },
    {
      "cell_type": "code",
      "source": [
        "sent_length=8\n",
        "embedded_docs=pad_sequences(onehot_repr,padding='pre',maxlen=sent_length)\n",
        "print(embedded_docs)"
      ],
      "metadata": {
        "colab": {
          "base_uri": "https://localhost:8080/"
        },
        "id": "QGOO2sJktY7i",
        "outputId": "056191ab-9b55-4742-a869-eb74d38fbb27"
      },
      "execution_count": 25,
      "outputs": [
        {
          "output_type": "stream",
          "name": "stdout",
          "text": [
            "[[   0    0    0    0 2340 8978  108 2313]\n",
            " [   0    0    0    0 2340 8978  108  676]\n",
            " [   0    0    0    0 2340 2152  108 5477]\n",
            " [   0    0    0 3852 1125 7259 1332 6471]\n",
            " [   0    0    0 3852 1125 7259 1332 2092]\n",
            " [   0    0    0 5805 2340 6079  108  683]\n",
            " [   0    0    0    0 4106 9685 7396 1332]]\n"
          ]
        }
      ]
    },
    {
      "cell_type": "code",
      "source": [
        "dim=10"
      ],
      "metadata": {
        "id": "0y5APUjHtjra"
      },
      "execution_count": 26,
      "outputs": []
    },
    {
      "cell_type": "code",
      "source": [
        "model=Sequential()\n",
        "model.add(Embedding(voc_size,10,input_length=sent_length))\n",
        "model.compile('adam','mse')"
      ],
      "metadata": {
        "id": "Ysj5Vmiat0Zz"
      },
      "execution_count": 27,
      "outputs": []
    },
    {
      "cell_type": "code",
      "source": [
        "model.summary()"
      ],
      "metadata": {
        "colab": {
          "base_uri": "https://localhost:8080/",
          "height": 161
        },
        "id": "7SvyxGIzt5QP",
        "outputId": "546d0b9a-1eb3-4e7e-b013-2a5d62034b6e"
      },
      "execution_count": 28,
      "outputs": [
        {
          "output_type": "display_data",
          "data": {
            "text/plain": [
              "\u001b[1mModel: \"sequential_2\"\u001b[0m\n"
            ],
            "text/html": [
              "<pre style=\"white-space:pre;overflow-x:auto;line-height:normal;font-family:Menlo,'DejaVu Sans Mono',consolas,'Courier New',monospace\"><span style=\"font-weight: bold\">Model: \"sequential_2\"</span>\n",
              "</pre>\n"
            ]
          },
          "metadata": {}
        },
        {
          "output_type": "display_data",
          "data": {
            "text/plain": [
              "┏━━━━━━━━━━━━━━━━━━━━━━━━━━━━━━━━━┳━━━━━━━━━━━━━━━━━━━━━━━━┳━━━━━━━━━━━━━━━┓\n",
              "┃\u001b[1m \u001b[0m\u001b[1mLayer (type)                   \u001b[0m\u001b[1m \u001b[0m┃\u001b[1m \u001b[0m\u001b[1mOutput Shape          \u001b[0m\u001b[1m \u001b[0m┃\u001b[1m \u001b[0m\u001b[1m      Param #\u001b[0m\u001b[1m \u001b[0m┃\n",
              "┡━━━━━━━━━━━━━━━━━━━━━━━━━━━━━━━━━╇━━━━━━━━━━━━━━━━━━━━━━━━╇━━━━━━━━━━━━━━━┩\n",
              "│ embedding_2 (\u001b[38;5;33mEmbedding\u001b[0m)         │ ?                      │   \u001b[38;5;34m0\u001b[0m (unbuilt) │\n",
              "└─────────────────────────────────┴────────────────────────┴───────────────┘\n"
            ],
            "text/html": [
              "<pre style=\"white-space:pre;overflow-x:auto;line-height:normal;font-family:Menlo,'DejaVu Sans Mono',consolas,'Courier New',monospace\">┏━━━━━━━━━━━━━━━━━━━━━━━━━━━━━━━━━┳━━━━━━━━━━━━━━━━━━━━━━━━┳━━━━━━━━━━━━━━━┓\n",
              "┃<span style=\"font-weight: bold\"> Layer (type)                    </span>┃<span style=\"font-weight: bold\"> Output Shape           </span>┃<span style=\"font-weight: bold\">       Param # </span>┃\n",
              "┡━━━━━━━━━━━━━━━━━━━━━━━━━━━━━━━━━╇━━━━━━━━━━━━━━━━━━━━━━━━╇━━━━━━━━━━━━━━━┩\n",
              "│ embedding_2 (<span style=\"color: #0087ff; text-decoration-color: #0087ff\">Embedding</span>)         │ ?                      │   <span style=\"color: #00af00; text-decoration-color: #00af00\">0</span> (unbuilt) │\n",
              "└─────────────────────────────────┴────────────────────────┴───────────────┘\n",
              "</pre>\n"
            ]
          },
          "metadata": {}
        },
        {
          "output_type": "display_data",
          "data": {
            "text/plain": [
              "\u001b[1m Total params: \u001b[0m\u001b[38;5;34m0\u001b[0m (0.00 B)\n"
            ],
            "text/html": [
              "<pre style=\"white-space:pre;overflow-x:auto;line-height:normal;font-family:Menlo,'DejaVu Sans Mono',consolas,'Courier New',monospace\"><span style=\"font-weight: bold\"> Total params: </span><span style=\"color: #00af00; text-decoration-color: #00af00\">0</span> (0.00 B)\n",
              "</pre>\n"
            ]
          },
          "metadata": {}
        },
        {
          "output_type": "display_data",
          "data": {
            "text/plain": [
              "\u001b[1m Trainable params: \u001b[0m\u001b[38;5;34m0\u001b[0m (0.00 B)\n"
            ],
            "text/html": [
              "<pre style=\"white-space:pre;overflow-x:auto;line-height:normal;font-family:Menlo,'DejaVu Sans Mono',consolas,'Courier New',monospace\"><span style=\"font-weight: bold\"> Trainable params: </span><span style=\"color: #00af00; text-decoration-color: #00af00\">0</span> (0.00 B)\n",
              "</pre>\n"
            ]
          },
          "metadata": {}
        },
        {
          "output_type": "display_data",
          "data": {
            "text/plain": [
              "\u001b[1m Non-trainable params: \u001b[0m\u001b[38;5;34m0\u001b[0m (0.00 B)\n"
            ],
            "text/html": [
              "<pre style=\"white-space:pre;overflow-x:auto;line-height:normal;font-family:Menlo,'DejaVu Sans Mono',consolas,'Courier New',monospace\"><span style=\"font-weight: bold\"> Non-trainable params: </span><span style=\"color: #00af00; text-decoration-color: #00af00\">0</span> (0.00 B)\n",
              "</pre>\n"
            ]
          },
          "metadata": {}
        }
      ]
    },
    {
      "cell_type": "code",
      "source": [
        "print(model.predict(embedded_docs))"
      ],
      "metadata": {
        "colab": {
          "base_uri": "https://localhost:8080/"
        },
        "id": "QycF0jIHt8tj",
        "outputId": "5953a910-aae0-48e6-8f03-82866a8a13a3"
      },
      "execution_count": 29,
      "outputs": [
        {
          "output_type": "stream",
          "name": "stdout",
          "text": [
            "\u001b[1m1/1\u001b[0m \u001b[32m━━━━━━━━━━━━━━━━━━━━\u001b[0m\u001b[37m\u001b[0m \u001b[1m1s\u001b[0m 798ms/step\n",
            "[[[ 0.03150931 -0.02588892 -0.04833634  0.0469023  -0.01008324\n",
            "   -0.01788416 -0.04807001 -0.03795303  0.02453292 -0.02635981]\n",
            "  [ 0.03150931 -0.02588892 -0.04833634  0.0469023  -0.01008324\n",
            "   -0.01788416 -0.04807001 -0.03795303  0.02453292 -0.02635981]\n",
            "  [ 0.03150931 -0.02588892 -0.04833634  0.0469023  -0.01008324\n",
            "   -0.01788416 -0.04807001 -0.03795303  0.02453292 -0.02635981]\n",
            "  [ 0.03150931 -0.02588892 -0.04833634  0.0469023  -0.01008324\n",
            "   -0.01788416 -0.04807001 -0.03795303  0.02453292 -0.02635981]\n",
            "  [ 0.04172346 -0.00603254 -0.00338265  0.02782449 -0.0017112\n",
            "   -0.04551969 -0.04893396 -0.01535111  0.00319116 -0.03966592]\n",
            "  [ 0.01383993 -0.01511084  0.03441473 -0.02891017 -0.02789663\n",
            "   -0.02637675  0.00898006 -0.04140407 -0.04685347  0.03214696]\n",
            "  [-0.00668709  0.01810969  0.04375166  0.00424242 -0.023895\n",
            "    0.04914163 -0.01754181 -0.04613532 -0.01731377  0.04064295]\n",
            "  [-0.03067043  0.03269385  0.04131572  0.00224397  0.00215304\n",
            "    0.03588461  0.03660213 -0.04506218  0.00022377 -0.04905117]]\n",
            "\n",
            " [[ 0.03150931 -0.02588892 -0.04833634  0.0469023  -0.01008324\n",
            "   -0.01788416 -0.04807001 -0.03795303  0.02453292 -0.02635981]\n",
            "  [ 0.03150931 -0.02588892 -0.04833634  0.0469023  -0.01008324\n",
            "   -0.01788416 -0.04807001 -0.03795303  0.02453292 -0.02635981]\n",
            "  [ 0.03150931 -0.02588892 -0.04833634  0.0469023  -0.01008324\n",
            "   -0.01788416 -0.04807001 -0.03795303  0.02453292 -0.02635981]\n",
            "  [ 0.03150931 -0.02588892 -0.04833634  0.0469023  -0.01008324\n",
            "   -0.01788416 -0.04807001 -0.03795303  0.02453292 -0.02635981]\n",
            "  [ 0.04172346 -0.00603254 -0.00338265  0.02782449 -0.0017112\n",
            "   -0.04551969 -0.04893396 -0.01535111  0.00319116 -0.03966592]\n",
            "  [ 0.01383993 -0.01511084  0.03441473 -0.02891017 -0.02789663\n",
            "   -0.02637675  0.00898006 -0.04140407 -0.04685347  0.03214696]\n",
            "  [-0.00668709  0.01810969  0.04375166  0.00424242 -0.023895\n",
            "    0.04914163 -0.01754181 -0.04613532 -0.01731377  0.04064295]\n",
            "  [-0.04229038 -0.02242477 -0.0341764  -0.04195207  0.010525\n",
            "    0.0421607  -0.03741743 -0.03131242  0.03336693 -0.00366669]]\n",
            "\n",
            " [[ 0.03150931 -0.02588892 -0.04833634  0.0469023  -0.01008324\n",
            "   -0.01788416 -0.04807001 -0.03795303  0.02453292 -0.02635981]\n",
            "  [ 0.03150931 -0.02588892 -0.04833634  0.0469023  -0.01008324\n",
            "   -0.01788416 -0.04807001 -0.03795303  0.02453292 -0.02635981]\n",
            "  [ 0.03150931 -0.02588892 -0.04833634  0.0469023  -0.01008324\n",
            "   -0.01788416 -0.04807001 -0.03795303  0.02453292 -0.02635981]\n",
            "  [ 0.03150931 -0.02588892 -0.04833634  0.0469023  -0.01008324\n",
            "   -0.01788416 -0.04807001 -0.03795303  0.02453292 -0.02635981]\n",
            "  [ 0.04172346 -0.00603254 -0.00338265  0.02782449 -0.0017112\n",
            "   -0.04551969 -0.04893396 -0.01535111  0.00319116 -0.03966592]\n",
            "  [ 0.04036888  0.02775421  0.02281394  0.04483819 -0.04434004\n",
            "   -0.02602839 -0.03908414  0.00760175  0.04056991 -0.02145063]\n",
            "  [-0.00668709  0.01810969  0.04375166  0.00424242 -0.023895\n",
            "    0.04914163 -0.01754181 -0.04613532 -0.01731377  0.04064295]\n",
            "  [ 0.00397102 -0.00542598 -0.00407305 -0.02668607 -0.0021951\n",
            "   -0.01279832  0.01964099 -0.019252    0.0230842  -0.00937576]]\n",
            "\n",
            " [[ 0.03150931 -0.02588892 -0.04833634  0.0469023  -0.01008324\n",
            "   -0.01788416 -0.04807001 -0.03795303  0.02453292 -0.02635981]\n",
            "  [ 0.03150931 -0.02588892 -0.04833634  0.0469023  -0.01008324\n",
            "   -0.01788416 -0.04807001 -0.03795303  0.02453292 -0.02635981]\n",
            "  [ 0.03150931 -0.02588892 -0.04833634  0.0469023  -0.01008324\n",
            "   -0.01788416 -0.04807001 -0.03795303  0.02453292 -0.02635981]\n",
            "  [ 0.04951007  0.01995419  0.0132694   0.00150577  0.01458016\n",
            "    0.04366083  0.01110142  0.0001546   0.02989754 -0.02182504]\n",
            "  [-0.01228898  0.03062779  0.02901034 -0.02864717  0.02220709\n",
            "   -0.02770511 -0.03815235  0.01836194 -0.03241324 -0.00879134]\n",
            "  [-0.01706975  0.02522746 -0.04373158 -0.00657604  0.03197226\n",
            "   -0.03211109 -0.03075632  0.00440077  0.03056543  0.03972263]\n",
            "  [ 0.02060019 -0.02543464  0.04777921  0.04135336  0.02829268\n",
            "   -0.01968699 -0.03289039  0.02736548  0.00052832 -0.04948404]\n",
            "  [ 0.0068018   0.02084318  0.02651285  0.0226852  -0.01367203\n",
            "    0.04992511  0.01513672 -0.03361116  0.04787489 -0.02278123]]\n",
            "\n",
            " [[ 0.03150931 -0.02588892 -0.04833634  0.0469023  -0.01008324\n",
            "   -0.01788416 -0.04807001 -0.03795303  0.02453292 -0.02635981]\n",
            "  [ 0.03150931 -0.02588892 -0.04833634  0.0469023  -0.01008324\n",
            "   -0.01788416 -0.04807001 -0.03795303  0.02453292 -0.02635981]\n",
            "  [ 0.03150931 -0.02588892 -0.04833634  0.0469023  -0.01008324\n",
            "   -0.01788416 -0.04807001 -0.03795303  0.02453292 -0.02635981]\n",
            "  [ 0.04951007  0.01995419  0.0132694   0.00150577  0.01458016\n",
            "    0.04366083  0.01110142  0.0001546   0.02989754 -0.02182504]\n",
            "  [-0.01228898  0.03062779  0.02901034 -0.02864717  0.02220709\n",
            "   -0.02770511 -0.03815235  0.01836194 -0.03241324 -0.00879134]\n",
            "  [-0.01706975  0.02522746 -0.04373158 -0.00657604  0.03197226\n",
            "   -0.03211109 -0.03075632  0.00440077  0.03056543  0.03972263]\n",
            "  [ 0.02060019 -0.02543464  0.04777921  0.04135336  0.02829268\n",
            "   -0.01968699 -0.03289039  0.02736548  0.00052832 -0.04948404]\n",
            "  [ 0.01531129 -0.04560364  0.0120931   0.04309652  0.03351608\n",
            "   -0.04546771 -0.01764214  0.00888212 -0.04262349 -0.02295019]]\n",
            "\n",
            " [[ 0.03150931 -0.02588892 -0.04833634  0.0469023  -0.01008324\n",
            "   -0.01788416 -0.04807001 -0.03795303  0.02453292 -0.02635981]\n",
            "  [ 0.03150931 -0.02588892 -0.04833634  0.0469023  -0.01008324\n",
            "   -0.01788416 -0.04807001 -0.03795303  0.02453292 -0.02635981]\n",
            "  [ 0.03150931 -0.02588892 -0.04833634  0.0469023  -0.01008324\n",
            "   -0.01788416 -0.04807001 -0.03795303  0.02453292 -0.02635981]\n",
            "  [ 0.01854309  0.03916614 -0.04998021 -0.01817062 -0.00808977\n",
            "   -0.02960117  0.00887666 -0.00570407 -0.0191799   0.0205324 ]\n",
            "  [ 0.04172346 -0.00603254 -0.00338265  0.02782449 -0.0017112\n",
            "   -0.04551969 -0.04893396 -0.01535111  0.00319116 -0.03966592]\n",
            "  [ 0.03659574  0.01429165  0.01314738  0.03075576  0.01401538\n",
            "   -0.00411491 -0.04054444 -0.00152713 -0.03383882 -0.03564533]\n",
            "  [-0.00668709  0.01810969  0.04375166  0.00424242 -0.023895\n",
            "    0.04914163 -0.01754181 -0.04613532 -0.01731377  0.04064295]\n",
            "  [ 0.04645726 -0.0305263   0.02118111 -0.02719652  0.00887541\n",
            "    0.02484229 -0.02308184  0.0116659  -0.01867312  0.0063063 ]]\n",
            "\n",
            " [[ 0.03150931 -0.02588892 -0.04833634  0.0469023  -0.01008324\n",
            "   -0.01788416 -0.04807001 -0.03795303  0.02453292 -0.02635981]\n",
            "  [ 0.03150931 -0.02588892 -0.04833634  0.0469023  -0.01008324\n",
            "   -0.01788416 -0.04807001 -0.03795303  0.02453292 -0.02635981]\n",
            "  [ 0.03150931 -0.02588892 -0.04833634  0.0469023  -0.01008324\n",
            "   -0.01788416 -0.04807001 -0.03795303  0.02453292 -0.02635981]\n",
            "  [ 0.03150931 -0.02588892 -0.04833634  0.0469023  -0.01008324\n",
            "   -0.01788416 -0.04807001 -0.03795303  0.02453292 -0.02635981]\n",
            "  [ 0.01353247  0.00210649 -0.01507698 -0.03396855 -0.0103747\n",
            "    0.02910744  0.04370821  0.0200403  -0.00956761  0.01068505]\n",
            "  [-0.02426846 -0.01913731  0.04690314  0.02045982  0.02000998\n",
            "   -0.04710656 -0.00616969  0.03039551 -0.01495441  0.04934833]\n",
            "  [-0.04997287 -0.02148119 -0.02960075 -0.01996805  0.03632618\n",
            "   -0.04418994  0.01473731 -0.01532307 -0.03716569 -0.01596565]\n",
            "  [ 0.02060019 -0.02543464  0.04777921  0.04135336  0.02829268\n",
            "   -0.01968699 -0.03289039  0.02736548  0.00052832 -0.04948404]]]\n"
          ]
        }
      ]
    }
  ]
}