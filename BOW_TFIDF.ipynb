{
  "cells": [
    {
      "cell_type": "markdown",
      "metadata": {
        "id": "view-in-github",
        "colab_type": "text"
      },
      "source": [
        "<a href=\"https://colab.research.google.com/github/MalayathiGeetha/NLP/blob/main/BOW_TFIDF.ipynb\" target=\"_parent\"><img src=\"https://colab.research.google.com/assets/colab-badge.svg\" alt=\"Open In Colab\"/></a>"
      ]
    },
    {
      "cell_type": "code",
      "execution_count": 2,
      "metadata": {
        "colab": {
          "base_uri": "https://localhost:8080/"
        },
        "id": "sG1rBurxdP4B",
        "outputId": "f5cc0aca-c700-46ca-d7ad-04bc33b384a2"
      },
      "outputs": [
        {
          "output_type": "stream",
          "name": "stdout",
          "text": [
            "Requirement already satisfied: nltk in /usr/local/lib/python3.12/dist-packages (3.9.1)\n",
            "Requirement already satisfied: click in /usr/local/lib/python3.12/dist-packages (from nltk) (8.2.1)\n",
            "Requirement already satisfied: joblib in /usr/local/lib/python3.12/dist-packages (from nltk) (1.5.2)\n",
            "Requirement already satisfied: regex>=2021.8.3 in /usr/local/lib/python3.12/dist-packages (from nltk) (2024.11.6)\n",
            "Requirement already satisfied: tqdm in /usr/local/lib/python3.12/dist-packages (from nltk) (4.67.1)\n"
          ]
        }
      ],
      "source": [
        "!pip install nltk"
      ]
    },
    {
      "cell_type": "code",
      "execution_count": 3,
      "metadata": {
        "id": "itGFWGtydUv9"
      },
      "outputs": [],
      "source": [
        "paragraph=\"\"\"Narendra Damodardas Modi[a] (born 17 September 1950) is an Indian politician who has served as the prime minister of India since 2014. Modi was the chief minister of Gujarat from 2001 to 2014 and is the member of parliament (MP) for Varanasi. He is a member of the Bharatiya Janata Party (BJP) and of the Rashtriya Swayamsevak Sangh (RSS), a right-wing Hindutva paramilitary volunteer organisation. He is the longest-serving prime minister outside the Indian National Congress.\n",
        "\n",
        "Modi was born and raised in Vadnagar, Bombay State (present-day Gujarat), where he completed his secondary education. He was introduced to the RSS at the age of eight, becoming a full-time worker for the organisation in Gujarat in 1971. The RSS assigned him to the BJP in 1985, and he rose through the party hierarchy, becoming general secretary in 1998.[b] In 2001, Modi was appointed chief minister of Gujarat and elected to the legislative assembly soon after. His administration is considered complicit in the 2002 Gujarat riots[c] and has been criticised for its management of the crisis. According to official records, a little over 1,000 people were killed, three-quarters of whom were Muslim; independent sources estimated 2,000 deaths, mostly Muslim.[4] A Special Investigation Team appointed by the Supreme Court of India in 2012 found no evidence to initiate prosecution proceedings against him.[d] While his policies as chief minister were credited for encouraging economic growth, his administration was criticised for failing to significantly improve health, poverty and education indices in the state\n",
        "\"\"\""
      ]
    },
    {
      "cell_type": "code",
      "execution_count": 4,
      "metadata": {
        "colab": {
          "base_uri": "https://localhost:8080/",
          "height": 162
        },
        "id": "Ke1pWo7OdarW",
        "outputId": "bd4411bc-b38c-4283-9e28-139c7a7683c8"
      },
      "outputs": [
        {
          "output_type": "execute_result",
          "data": {
            "text/plain": [
              "'Narendra Damodardas Modi[a] (born 17 September 1950) is an Indian politician who has served as the prime minister of India since 2014. Modi was the chief minister of Gujarat from 2001 to 2014 and is the member of parliament (MP) for Varanasi. He is a member of the Bharatiya Janata Party (BJP) and of the Rashtriya Swayamsevak Sangh (RSS), a right-wing Hindutva paramilitary volunteer organisation. He is the longest-serving prime minister outside the Indian National Congress.\\n\\nModi was born and raised in Vadnagar, Bombay State (present-day Gujarat), where he completed his secondary education. He was introduced to the RSS at the age of eight, becoming a full-time worker for the organisation in Gujarat in 1971. The RSS assigned him to the BJP in 1985, and he rose through the party hierarchy, becoming general secretary in 1998.[b] In 2001, Modi was appointed chief minister of Gujarat and elected to the legislative assembly soon after. His administration is considered complicit in the 2002 Gujarat riots[c] and has been criticised for its management of the crisis. According to official records, a little over 1,000 people were killed, three-quarters of whom were Muslim; independent sources estimated 2,000 deaths, mostly Muslim.[4] A Special Investigation Team appointed by the Supreme Court of India in 2012 found no evidence to initiate prosecution proceedings against him.[d] While his policies as chief minister were credited for encouraging economic growth, his administration was criticised for failing to significantly improve health, poverty and education indices in the state\\n'"
            ],
            "application/vnd.google.colaboratory.intrinsic+json": {
              "type": "string"
            }
          },
          "metadata": {},
          "execution_count": 4
        }
      ],
      "source": [
        "paragraph"
      ]
    },
    {
      "cell_type": "code",
      "execution_count": 5,
      "metadata": {
        "id": "nNAxBQZOdmEK"
      },
      "outputs": [],
      "source": [
        "import nltk\n",
        "from nltk.corpus import stopwords\n",
        "from nltk.stem import PorterStemmer"
      ]
    },
    {
      "cell_type": "code",
      "execution_count": 6,
      "metadata": {
        "id": "Cx51EMauezfM"
      },
      "outputs": [],
      "source": [
        "#tokenization-stemmer-lemmetaization"
      ]
    },
    {
      "cell_type": "code",
      "execution_count": 7,
      "metadata": {
        "colab": {
          "base_uri": "https://localhost:8080/"
        },
        "id": "zbTuLPEodulF",
        "outputId": "614cb0ae-bb2c-4afe-849f-d7a30adc5b72"
      },
      "outputs": [
        {
          "output_type": "stream",
          "name": "stderr",
          "text": [
            "[nltk_data] Downloading package punkt to /root/nltk_data...\n",
            "[nltk_data]   Unzipping tokenizers/punkt.zip.\n",
            "[nltk_data] Downloading package punkt_tab to /root/nltk_data...\n",
            "[nltk_data]   Unzipping tokenizers/punkt_tab.zip.\n"
          ]
        },
        {
          "output_type": "execute_result",
          "data": {
            "text/plain": [
              "['Narendra Damodardas Modi[a] (born 17 September 1950) is an Indian politician who has served as the prime minister of India since 2014.',\n",
              " 'Modi was the chief minister of Gujarat from 2001 to 2014 and is the member of parliament (MP) for Varanasi.',\n",
              " 'He is a member of the Bharatiya Janata Party (BJP) and of the Rashtriya Swayamsevak Sangh (RSS), a right-wing Hindutva paramilitary volunteer organisation.',\n",
              " 'He is the longest-serving prime minister outside the Indian National Congress.',\n",
              " 'Modi was born and raised in Vadnagar, Bombay State (present-day Gujarat), where he completed his secondary education.',\n",
              " 'He was introduced to the RSS at the age of eight, becoming a full-time worker for the organisation in Gujarat in 1971.',\n",
              " 'The RSS assigned him to the BJP in 1985, and he rose through the party hierarchy, becoming general secretary in 1998.',\n",
              " '[b] In 2001, Modi was appointed chief minister of Gujarat and elected to the legislative assembly soon after.',\n",
              " 'His administration is considered complicit in the 2002 Gujarat riots[c] and has been criticised for its management of the crisis.',\n",
              " 'According to official records, a little over 1,000 people were killed, three-quarters of whom were Muslim; independent sources estimated 2,000 deaths, mostly Muslim.',\n",
              " '[4] A Special Investigation Team appointed by the Supreme Court of India in 2012 found no evidence to initiate prosecution proceedings against him.',\n",
              " '[d] While his policies as chief minister were credited for encouraging economic growth, his administration was criticised for failing to significantly improve health, poverty and education indices in the state']"
            ]
          },
          "metadata": {},
          "execution_count": 7
        }
      ],
      "source": [
        "nltk.download('punkt')\n",
        "nltk.download('punkt_tab')\n",
        "\n",
        "sentences=nltk.sent_tokenize(paragraph)\n",
        "sentences"
      ]
    },
    {
      "cell_type": "code",
      "execution_count": 8,
      "metadata": {
        "colab": {
          "base_uri": "https://localhost:8080/",
          "height": 38
        },
        "id": "kqn49oC1elOf",
        "outputId": "6ef6a7a2-9642-49c9-cd90-0fcb7485b622"
      },
      "outputs": [
        {
          "output_type": "execute_result",
          "data": {
            "text/plain": [
              "'go'"
            ],
            "application/vnd.google.colaboratory.intrinsic+json": {
              "type": "string"
            }
          },
          "metadata": {},
          "execution_count": 8
        }
      ],
      "source": [
        "stemmer=PorterStemmer()\n",
        "stemmer.stem('going')"
      ]
    },
    {
      "cell_type": "code",
      "execution_count": 9,
      "metadata": {
        "colab": {
          "base_uri": "https://localhost:8080/",
          "height": 73
        },
        "id": "RHjAlgdtfVAi",
        "outputId": "2c56d6d8-ccd9-4abe-c715-2cd0ea24780c"
      },
      "outputs": [
        {
          "output_type": "stream",
          "name": "stderr",
          "text": [
            "[nltk_data] Downloading package omw-1.4 to /root/nltk_data...\n",
            "[nltk_data] Downloading package wordnet to /root/nltk_data...\n"
          ]
        },
        {
          "output_type": "execute_result",
          "data": {
            "text/plain": [
              "'going'"
            ],
            "application/vnd.google.colaboratory.intrinsic+json": {
              "type": "string"
            }
          },
          "metadata": {},
          "execution_count": 9
        }
      ],
      "source": [
        "from nltk.stem import WordNetLemmatizer\n",
        "nltk.download('omw-1.4')\n",
        "nltk.download('wordnet')\n",
        "lemmetizer=WordNetLemmatizer()\n",
        "lemmetizer.lemmatize('going')"
      ]
    },
    {
      "cell_type": "code",
      "execution_count": 19,
      "metadata": {
        "id": "oVXTqPQ7gWHL"
      },
      "outputs": [],
      "source": [
        "import re\n",
        "corpus=[]\n",
        "for i in range(len(sentences)):\n",
        "  review=re.sub('[^a-zA-Z]',' ',sentences[i])\n",
        "  review.lower()\n",
        "  corpus.append(review)"
      ]
    },
    {
      "cell_type": "code",
      "execution_count": 20,
      "metadata": {
        "colab": {
          "base_uri": "https://localhost:8080/"
        },
        "id": "5jbSPo1xhBWk",
        "outputId": "94fd6519-025a-4bea-a4c3-b2ab84a96b15"
      },
      "outputs": [
        {
          "output_type": "execute_result",
          "data": {
            "text/plain": [
              "['Narendra Damodardas Modi a   born    September       is an Indian politician who has served as the prime minister of India since      ',\n",
              " 'Modi was the chief minister of Gujarat from      to      and is the member of parliament  MP  for Varanasi ',\n",
              " 'He is a member of the Bharatiya Janata Party  BJP  and of the Rashtriya Swayamsevak Sangh  RSS   a right wing Hindutva paramilitary volunteer organisation ',\n",
              " 'He is the longest serving prime minister outside the Indian National Congress ',\n",
              " 'Modi was born and raised in Vadnagar  Bombay State  present day Gujarat   where he completed his secondary education ',\n",
              " 'He was introduced to the RSS at the age of eight  becoming a full time worker for the organisation in Gujarat in      ',\n",
              " 'The RSS assigned him to the BJP in       and he rose through the party hierarchy  becoming general secretary in      ',\n",
              " ' b  In       Modi was appointed chief minister of Gujarat and elected to the legislative assembly soon after ',\n",
              " 'His administration is considered complicit in the      Gujarat riots c  and has been criticised for its management of the crisis ',\n",
              " 'According to official records  a little over       people were killed  three quarters of whom were Muslim  independent sources estimated       deaths  mostly Muslim ',\n",
              " '    A Special Investigation Team appointed by the Supreme Court of India in      found no evidence to initiate prosecution proceedings against him ',\n",
              " ' d  While his policies as chief minister were credited for encouraging economic growth  his administration was criticised for failing to significantly improve health  poverty and education indices in the state']"
            ]
          },
          "metadata": {},
          "execution_count": 20
        }
      ],
      "source": [
        "corpus"
      ]
    },
    {
      "cell_type": "code",
      "execution_count": 21,
      "metadata": {
        "colab": {
          "base_uri": "https://localhost:8080/"
        },
        "id": "X5p8iJV5hZOj",
        "outputId": "1d7239de-6ef0-4bcb-87e6-6427e9a550e9"
      },
      "outputs": [
        {
          "output_type": "stream",
          "name": "stdout",
          "text": [
            "narendra\n",
            "damodarda\n",
            "modi\n",
            "born\n",
            "septemb\n",
            "indian\n",
            "politician\n",
            "serv\n",
            "prime\n",
            "minist\n",
            "india\n",
            "sinc\n",
            "modi\n",
            "chief\n",
            "minist\n",
            "gujarat\n",
            "member\n",
            "parliament\n",
            "mp\n",
            "varanasi\n",
            "member\n",
            "bharatiya\n",
            "janata\n",
            "parti\n",
            "bjp\n",
            "rashtriya\n",
            "swayamsevak\n",
            "sangh\n",
            "rss\n",
            "right\n",
            "wing\n",
            "hindutva\n",
            "paramilitari\n",
            "volunt\n",
            "organis\n",
            "longest\n",
            "serv\n",
            "prime\n",
            "minist\n",
            "outsid\n",
            "indian\n",
            "nation\n",
            "congress\n",
            "modi\n",
            "born\n",
            "rais\n",
            "vadnagar\n",
            "bombay\n",
            "state\n",
            "present\n",
            "day\n",
            "gujarat\n",
            "complet\n",
            "secondari\n",
            "educ\n",
            "introduc\n",
            "rss\n",
            "age\n",
            "eight\n",
            "becom\n",
            "full\n",
            "time\n",
            "worker\n",
            "organis\n",
            "gujarat\n",
            "rss\n",
            "assign\n",
            "bjp\n",
            "rose\n",
            "parti\n",
            "hierarchi\n",
            "becom\n",
            "gener\n",
            "secretari\n",
            "b\n",
            "modi\n",
            "appoint\n",
            "chief\n",
            "minist\n",
            "gujarat\n",
            "elect\n",
            "legisl\n",
            "assembl\n",
            "soon\n",
            "administr\n",
            "consid\n",
            "complicit\n",
            "gujarat\n",
            "riot\n",
            "c\n",
            "criticis\n",
            "manag\n",
            "crisi\n",
            "accord\n",
            "offici\n",
            "record\n",
            "littl\n",
            "peopl\n",
            "kill\n",
            "three\n",
            "quarter\n",
            "muslim\n",
            "independ\n",
            "sourc\n",
            "estim\n",
            "death\n",
            "mostli\n",
            "muslim\n",
            "special\n",
            "investig\n",
            "team\n",
            "appoint\n",
            "suprem\n",
            "court\n",
            "india\n",
            "found\n",
            "evid\n",
            "initi\n",
            "prosecut\n",
            "proceed\n",
            "polici\n",
            "chief\n",
            "minist\n",
            "credit\n",
            "encourag\n",
            "econom\n",
            "growth\n",
            "administr\n",
            "criticis\n",
            "fail\n",
            "significantli\n",
            "improv\n",
            "health\n",
            "poverti\n",
            "educ\n",
            "indic\n",
            "state\n"
          ]
        },
        {
          "output_type": "stream",
          "name": "stderr",
          "text": [
            "[nltk_data] Downloading package stopwords to /root/nltk_data...\n",
            "[nltk_data]   Package stopwords is already up-to-date!\n"
          ]
        }
      ],
      "source": [
        "nltk.download('stopwords')\n",
        "for i in corpus:\n",
        "    words = nltk.word_tokenize(i)  # tokenizing sentence into words\n",
        "    for word in words:\n",
        "        if word.lower() not in set(stopwords.words('english')):\n",
        "            print(stemmer.stem(word))\n"
      ]
    },
    {
      "cell_type": "code",
      "execution_count": 22,
      "metadata": {
        "colab": {
          "base_uri": "https://localhost:8080/"
        },
        "id": "iqxGU9-_hrHd",
        "outputId": "879147d5-b87a-482a-fcad-b368c3f711d7"
      },
      "outputs": [
        {
          "output_type": "stream",
          "name": "stdout",
          "text": [
            "Narendra\n",
            "Damodardas\n",
            "Modi\n",
            "born\n",
            "September\n",
            "Indian\n",
            "politician\n",
            "served\n",
            "prime\n",
            "minister\n",
            "India\n",
            "since\n",
            "Modi\n",
            "chief\n",
            "minister\n",
            "Gujarat\n",
            "member\n",
            "parliament\n",
            "MP\n",
            "Varanasi\n",
            "member\n",
            "Bharatiya\n",
            "Janata\n",
            "Party\n",
            "BJP\n",
            "Rashtriya\n",
            "Swayamsevak\n",
            "Sangh\n",
            "RSS\n",
            "right\n",
            "wing\n",
            "Hindutva\n",
            "paramilitary\n",
            "volunteer\n",
            "organisation\n",
            "longest\n",
            "serving\n",
            "prime\n",
            "minister\n",
            "outside\n",
            "Indian\n",
            "National\n",
            "Congress\n",
            "Modi\n",
            "born\n",
            "raised\n",
            "Vadnagar\n",
            "Bombay\n",
            "State\n",
            "present\n",
            "day\n",
            "Gujarat\n",
            "completed\n",
            "secondary\n",
            "education\n",
            "introduced\n",
            "RSS\n",
            "age\n",
            "eight\n",
            "becoming\n",
            "full\n",
            "time\n",
            "worker\n",
            "organisation\n",
            "Gujarat\n",
            "RSS\n",
            "assigned\n",
            "BJP\n",
            "rose\n",
            "party\n",
            "hierarchy\n",
            "becoming\n",
            "general\n",
            "secretary\n",
            "b\n",
            "Modi\n",
            "appointed\n",
            "chief\n",
            "minister\n",
            "Gujarat\n",
            "elected\n",
            "legislative\n",
            "assembly\n",
            "soon\n",
            "administration\n",
            "considered\n",
            "complicit\n",
            "Gujarat\n",
            "riot\n",
            "c\n",
            "criticised\n",
            "management\n",
            "crisis\n",
            "According\n",
            "official\n",
            "record\n",
            "little\n",
            "people\n",
            "killed\n",
            "three\n",
            "quarter\n",
            "Muslim\n",
            "independent\n",
            "source\n",
            "estimated\n",
            "death\n",
            "mostly\n",
            "Muslim\n",
            "Special\n",
            "Investigation\n",
            "Team\n",
            "appointed\n",
            "Supreme\n",
            "Court\n",
            "India\n",
            "found\n",
            "evidence\n",
            "initiate\n",
            "prosecution\n",
            "proceeding\n",
            "policy\n",
            "chief\n",
            "minister\n",
            "credited\n",
            "encouraging\n",
            "economic\n",
            "growth\n",
            "administration\n",
            "criticised\n",
            "failing\n",
            "significantly\n",
            "improve\n",
            "health\n",
            "poverty\n",
            "education\n",
            "index\n",
            "state\n"
          ]
        },
        {
          "output_type": "stream",
          "name": "stderr",
          "text": [
            "[nltk_data] Downloading package stopwords to /root/nltk_data...\n",
            "[nltk_data]   Package stopwords is already up-to-date!\n"
          ]
        }
      ],
      "source": [
        "nltk.download('stopwords')\n",
        "for i in corpus:\n",
        "    words = nltk.word_tokenize(i)  # tokenizing sentence into words\n",
        "    for word in words:\n",
        "        if word.lower() not in set(stopwords.words('english')):\n",
        "            print(lemmetizer.lemmatize(word))"
      ]
    },
    {
      "cell_type": "code",
      "execution_count": 24,
      "metadata": {
        "colab": {
          "base_uri": "https://localhost:8080/"
        },
        "id": "UwEbfnhXpFtE",
        "outputId": "ffb972e5-6619-4e79-9f92-d9f46e29cfe6"
      },
      "outputs": [
        {
          "output_type": "execute_result",
          "data": {
            "text/plain": [
              "{'narendra damodardas modi': 117,\n",
              " 'damodardas modi born': 38,\n",
              " 'modi born september': 111,\n",
              " 'born september is': 27,\n",
              " 'september is an': 157,\n",
              " 'is an indian': 93,\n",
              " 'an indian politician': 4,\n",
              " 'indian politician who': 88,\n",
              " 'politician who has': 139,\n",
              " 'who has served': 204,\n",
              " 'has served as': 63,\n",
              " 'served as the': 158,\n",
              " 'as the prime': 15,\n",
              " 'the prime minister': 178,\n",
              " 'prime minister of': 142,\n",
              " 'minister of india': 108,\n",
              " 'of india since': 123,\n",
              " 'modi was the': 114,\n",
              " 'was the chief': 198,\n",
              " 'the chief minister': 170,\n",
              " 'chief minister of': 29,\n",
              " 'minister of gujarat': 107,\n",
              " 'of gujarat from': 121,\n",
              " 'gujarat from to': 59,\n",
              " 'from to and': 54,\n",
              " 'to and is': 186,\n",
              " 'and is the': 9,\n",
              " 'is the member': 97,\n",
              " 'the member of': 175,\n",
              " 'member of parliament': 105,\n",
              " 'of parliament mp': 124,\n",
              " 'parliament mp for': 134,\n",
              " 'mp for varanasi': 115,\n",
              " 'he is member': 65,\n",
              " 'is member of': 95,\n",
              " 'member of the': 106,\n",
              " 'of the bharatiya': 125,\n",
              " 'the bharatiya janata': 168,\n",
              " 'bharatiya janata party': 22,\n",
              " 'janata party bjp': 99,\n",
              " 'party bjp and': 135,\n",
              " 'bjp and of': 23,\n",
              " 'and of the': 10,\n",
              " 'of the rashtriya': 127,\n",
              " 'the rashtriya swayamsevak': 179,\n",
              " 'rashtriya swayamsevak sangh': 148,\n",
              " 'swayamsevak sangh rss': 165,\n",
              " 'sangh rss right': 156,\n",
              " 'rss right wing': 155,\n",
              " 'right wing hindutva': 150,\n",
              " 'wing hindutva paramilitary': 206,\n",
              " 'hindutva paramilitary volunteer': 72,\n",
              " 'paramilitary volunteer organisation': 133,\n",
              " 'he is the': 66,\n",
              " 'is the longest': 96,\n",
              " 'the longest serving': 174,\n",
              " 'longest serving prime': 103,\n",
              " 'serving prime minister': 159,\n",
              " 'prime minister outside': 143,\n",
              " 'minister outside the': 109,\n",
              " 'outside the indian': 131,\n",
              " 'the indian national': 172,\n",
              " 'indian national congress': 87,\n",
              " 'modi was born': 113,\n",
              " 'was born and': 195,\n",
              " 'born and raised': 26,\n",
              " 'and raised in': 11,\n",
              " 'raised in vadnagar': 147,\n",
              " 'in vadnagar bombay': 84,\n",
              " 'vadnagar bombay state': 193,\n",
              " 'bombay state present': 25,\n",
              " 'state present day': 163,\n",
              " 'present day gujarat': 141,\n",
              " 'day gujarat where': 39,\n",
              " 'gujarat where he': 61,\n",
              " 'where he completed': 202,\n",
              " 'he completed his': 64,\n",
              " 'completed his secondary': 31,\n",
              " 'his secondary education': 76,\n",
              " 'he was introduced': 68,\n",
              " 'was introduced to': 197,\n",
              " 'introduced to the': 91,\n",
              " 'to the rss': 192,\n",
              " 'the rss at': 181,\n",
              " 'rss at the': 154,\n",
              " 'at the age': 18,\n",
              " 'the age of': 167,\n",
              " 'age of eight': 3,\n",
              " 'of eight becoming': 119,\n",
              " 'eight becoming full': 43,\n",
              " 'becoming full time': 19,\n",
              " 'full time worker': 55,\n",
              " 'time worker for': 185,\n",
              " 'worker for the': 207,\n",
              " 'for the organisation': 52,\n",
              " 'the organisation in': 176,\n",
              " 'organisation in gujarat': 130,\n",
              " 'in gujarat in': 80,\n",
              " 'the rss assigned': 180,\n",
              " 'rss assigned him': 153,\n",
              " 'assigned him to': 17,\n",
              " 'him to the': 71,\n",
              " 'to the bjp': 190,\n",
              " 'the bjp in': 169,\n",
              " 'bjp in and': 24,\n",
              " 'in and he': 78,\n",
              " 'and he rose': 8,\n",
              " 'he rose through': 67,\n",
              " 'rose through the': 152,\n",
              " 'through the party': 184,\n",
              " 'the party hierarchy': 177,\n",
              " 'party hierarchy becoming': 136,\n",
              " 'hierarchy becoming general': 70,\n",
              " 'becoming general secretary': 20,\n",
              " 'general secretary in': 56,\n",
              " 'in modi was': 81,\n",
              " 'modi was appointed': 112,\n",
              " 'was appointed chief': 194,\n",
              " 'appointed chief minister': 13,\n",
              " 'of gujarat and': 120,\n",
              " 'gujarat and elected': 58,\n",
              " 'and elected to': 6,\n",
              " 'elected to the': 44,\n",
              " 'to the legislative': 191,\n",
              " 'the legislative assembly': 173,\n",
              " 'legislative assembly soon': 101,\n",
              " 'assembly soon after': 16,\n",
              " 'his administration is': 73,\n",
              " 'administration is considered': 1,\n",
              " 'is considered complicit': 94,\n",
              " 'considered complicit in': 33,\n",
              " 'complicit in the': 32,\n",
              " 'in the gujarat': 82,\n",
              " 'the gujarat riots': 171,\n",
              " 'gujarat riots and': 60,\n",
              " 'riots and has': 151,\n",
              " 'and has been': 7,\n",
              " 'has been criticised': 62,\n",
              " 'been criticised for': 21,\n",
              " 'criticised for its': 37,\n",
              " 'for its management': 51,\n",
              " 'its management of': 98,\n",
              " 'management of the': 104,\n",
              " 'of the crisis': 126,\n",
              " 'according to official': 0,\n",
              " 'to official records': 188,\n",
              " 'official records little': 129,\n",
              " 'records little over': 149,\n",
              " 'little over people': 102,\n",
              " 'over people were': 132,\n",
              " 'people were killed': 137,\n",
              " 'were killed three': 200,\n",
              " 'killed three quarters': 100,\n",
              " 'three quarters of': 183,\n",
              " 'quarters of whom': 146,\n",
              " 'of whom were': 128,\n",
              " 'whom were muslim': 205,\n",
              " 'were muslim independent': 201,\n",
              " 'muslim independent sources': 116,\n",
              " 'independent sources estimated': 85,\n",
              " 'sources estimated deaths': 161,\n",
              " 'estimated deaths mostly': 46,\n",
              " 'deaths mostly muslim': 40,\n",
              " 'special investigation team': 162,\n",
              " 'investigation team appointed': 92,\n",
              " 'team appointed by': 166,\n",
              " 'appointed by the': 12,\n",
              " 'by the supreme': 28,\n",
              " 'the supreme court': 182,\n",
              " 'supreme court of': 164,\n",
              " 'court of india': 34,\n",
              " 'of india in': 122,\n",
              " 'india in found': 86,\n",
              " 'in found no': 79,\n",
              " 'found no evidence': 53,\n",
              " 'no evidence to': 118,\n",
              " 'evidence to initiate': 47,\n",
              " 'to initiate prosecution': 187,\n",
              " 'initiate prosecution proceedings': 90,\n",
              " 'prosecution proceedings against': 145,\n",
              " 'proceedings against him': 144,\n",
              " 'while his policies': 203,\n",
              " 'his policies as': 75,\n",
              " 'policies as chief': 138,\n",
              " 'as chief minister': 14,\n",
              " 'chief minister were': 30,\n",
              " 'minister were credited': 110,\n",
              " 'were credited for': 199,\n",
              " 'credited for encouraging': 35,\n",
              " 'for encouraging economic': 49,\n",
              " 'encouraging economic growth': 45,\n",
              " 'economic growth his': 41,\n",
              " 'growth his administration': 57,\n",
              " 'his administration was': 74,\n",
              " 'administration was criticised': 2,\n",
              " 'was criticised for': 196,\n",
              " 'criticised for failing': 36,\n",
              " 'for failing to': 50,\n",
              " 'failing to significantly': 48,\n",
              " 'to significantly improve': 189,\n",
              " 'significantly improve health': 160,\n",
              " 'improve health poverty': 77,\n",
              " 'health poverty and': 69,\n",
              " 'poverty and education': 140,\n",
              " 'and education indices': 5,\n",
              " 'education indices in': 42,\n",
              " 'indices in the': 89,\n",
              " 'in the state': 83}"
            ]
          },
          "metadata": {},
          "execution_count": 24
        }
      ],
      "source": [
        "#Bag of Words\n",
        "\n",
        "from sklearn.feature_extraction.text import CountVectorizer\n",
        "cv=CountVectorizer(binary=True,ngram_range=(3,3))\n",
        "x=cv.fit_transform(corpus)\n",
        "cv.vocabulary_"
      ]
    },
    {
      "cell_type": "code",
      "source": [
        "#TF-IDF\n",
        "from sklearn.feature_extraction.text import TfidfVectorizer\n",
        "cv=TfidfVectorizer()\n",
        "x=cv.fit_transform(corpus)\n",
        "cv.vocabulary_"
      ],
      "metadata": {
        "colab": {
          "base_uri": "https://localhost:8080/"
        },
        "id": "dcDWcgYzOt3e",
        "outputId": "f64079fa-decc-4561-83b5-311d9d1f470d"
      },
      "execution_count": 25,
      "outputs": [
        {
          "output_type": "execute_result",
          "data": {
            "text/plain": [
              "{'narendra': 76,\n",
              " 'damodardas': 28,\n",
              " 'modi': 72,\n",
              " 'born': 17,\n",
              " 'september': 106,\n",
              " 'is': 62,\n",
              " 'an': 5,\n",
              " 'indian': 57,\n",
              " 'politician': 89,\n",
              " 'who': 130,\n",
              " 'has': 46,\n",
              " 'served': 107,\n",
              " 'as': 8,\n",
              " 'the': 118,\n",
              " 'prime': 92,\n",
              " 'minister': 71,\n",
              " 'of': 79,\n",
              " 'india': 56,\n",
              " 'since': 110,\n",
              " 'was': 126,\n",
              " 'chief': 19,\n",
              " 'gujarat': 45,\n",
              " 'from': 41,\n",
              " 'to': 122,\n",
              " 'and': 6,\n",
              " 'member': 70,\n",
              " 'parliament': 85,\n",
              " 'mp': 74,\n",
              " 'for': 39,\n",
              " 'varanasi': 124,\n",
              " 'he': 47,\n",
              " 'bharatiya': 14,\n",
              " 'janata': 64,\n",
              " 'party': 86,\n",
              " 'bjp': 15,\n",
              " 'rashtriya': 97,\n",
              " 'swayamsevak': 116,\n",
              " 'sangh': 103,\n",
              " 'rss': 102,\n",
              " 'right': 99,\n",
              " 'wing': 132,\n",
              " 'hindutva': 51,\n",
              " 'paramilitary': 84,\n",
              " 'volunteer': 125,\n",
              " 'organisation': 81,\n",
              " 'longest': 68,\n",
              " 'serving': 108,\n",
              " 'outside': 82,\n",
              " 'national': 77,\n",
              " 'congress': 22,\n",
              " 'raised': 96,\n",
              " 'in': 54,\n",
              " 'vadnagar': 123,\n",
              " 'bombay': 16,\n",
              " 'state': 114,\n",
              " 'present': 91,\n",
              " 'day': 29,\n",
              " 'where': 128,\n",
              " 'completed': 20,\n",
              " 'his': 52,\n",
              " 'secondary': 104,\n",
              " 'education': 32,\n",
              " 'introduced': 60,\n",
              " 'at': 11,\n",
              " 'age': 4,\n",
              " 'eight': 33,\n",
              " 'becoming': 12,\n",
              " 'full': 42,\n",
              " 'time': 121,\n",
              " 'worker': 133,\n",
              " 'assigned': 10,\n",
              " 'him': 50,\n",
              " 'rose': 101,\n",
              " 'through': 120,\n",
              " 'hierarchy': 49,\n",
              " 'general': 43,\n",
              " 'secretary': 105,\n",
              " 'appointed': 7,\n",
              " 'elected': 34,\n",
              " 'legislative': 66,\n",
              " 'assembly': 9,\n",
              " 'soon': 111,\n",
              " 'after': 2,\n",
              " 'administration': 1,\n",
              " 'considered': 23,\n",
              " 'complicit': 21,\n",
              " 'riots': 100,\n",
              " 'been': 13,\n",
              " 'criticised': 27,\n",
              " 'its': 63,\n",
              " 'management': 69,\n",
              " 'crisis': 26,\n",
              " 'according': 0,\n",
              " 'official': 80,\n",
              " 'records': 98,\n",
              " 'little': 67,\n",
              " 'over': 83,\n",
              " 'people': 87,\n",
              " 'were': 127,\n",
              " 'killed': 65,\n",
              " 'three': 119,\n",
              " 'quarters': 95,\n",
              " 'whom': 131,\n",
              " 'muslim': 75,\n",
              " 'independent': 55,\n",
              " 'sources': 112,\n",
              " 'estimated': 36,\n",
              " 'deaths': 30,\n",
              " 'mostly': 73,\n",
              " 'special': 113,\n",
              " 'investigation': 61,\n",
              " 'team': 117,\n",
              " 'by': 18,\n",
              " 'supreme': 115,\n",
              " 'court': 24,\n",
              " 'found': 40,\n",
              " 'no': 78,\n",
              " 'evidence': 37,\n",
              " 'initiate': 59,\n",
              " 'prosecution': 94,\n",
              " 'proceedings': 93,\n",
              " 'against': 3,\n",
              " 'while': 129,\n",
              " 'policies': 88,\n",
              " 'credited': 25,\n",
              " 'encouraging': 35,\n",
              " 'economic': 31,\n",
              " 'growth': 44,\n",
              " 'failing': 38,\n",
              " 'significantly': 109,\n",
              " 'improve': 53,\n",
              " 'health': 48,\n",
              " 'poverty': 90,\n",
              " 'indices': 58}"
            ]
          },
          "metadata": {},
          "execution_count": 25
        }
      ]
    },
    {
      "cell_type": "code",
      "source": [
        "x[0].toarray()"
      ],
      "metadata": {
        "colab": {
          "base_uri": "https://localhost:8080/"
        },
        "id": "Rm6Yc1UJPDGR",
        "outputId": "ec111292-4cc6-414a-f93b-0f668d2b3bcd"
      },
      "execution_count": 26,
      "outputs": [
        {
          "output_type": "execute_result",
          "data": {
            "text/plain": [
              "array([[0.        , 0.        , 0.        , 0.        , 0.        ,\n",
              "        0.26684724, 0.        , 0.        , 0.22917151, 0.        ,\n",
              "        0.        , 0.        , 0.        , 0.        , 0.        ,\n",
              "        0.        , 0.        , 0.22917151, 0.        , 0.        ,\n",
              "        0.        , 0.        , 0.        , 0.        , 0.        ,\n",
              "        0.        , 0.        , 0.        , 0.26684724, 0.        ,\n",
              "        0.        , 0.        , 0.        , 0.        , 0.        ,\n",
              "        0.        , 0.        , 0.        , 0.        , 0.        ,\n",
              "        0.        , 0.        , 0.        , 0.        , 0.        ,\n",
              "        0.        , 0.22917151, 0.        , 0.        , 0.        ,\n",
              "        0.        , 0.        , 0.        , 0.        , 0.        ,\n",
              "        0.        , 0.22917151, 0.22917151, 0.        , 0.        ,\n",
              "        0.        , 0.        , 0.16476443, 0.        , 0.        ,\n",
              "        0.        , 0.        , 0.        , 0.        , 0.        ,\n",
              "        0.        , 0.16476443, 0.18170571, 0.        , 0.        ,\n",
              "        0.        , 0.26684724, 0.        , 0.        , 0.12708869,\n",
              "        0.        , 0.        , 0.        , 0.        , 0.        ,\n",
              "        0.        , 0.        , 0.        , 0.        , 0.26684724,\n",
              "        0.        , 0.        , 0.22917151, 0.        , 0.        ,\n",
              "        0.        , 0.        , 0.        , 0.        , 0.        ,\n",
              "        0.        , 0.        , 0.        , 0.        , 0.        ,\n",
              "        0.        , 0.26684724, 0.26684724, 0.        , 0.        ,\n",
              "        0.26684724, 0.        , 0.        , 0.        , 0.        ,\n",
              "        0.        , 0.        , 0.        , 0.10844242, 0.        ,\n",
              "        0.        , 0.        , 0.        , 0.        , 0.        ,\n",
              "        0.        , 0.        , 0.        , 0.        , 0.        ,\n",
              "        0.26684724, 0.        , 0.        , 0.        ]])"
            ]
          },
          "metadata": {},
          "execution_count": 26
        }
      ]
    },
    {
      "cell_type": "code",
      "source": [
        "cv=TfidfVectorizer(ngram_range=(3,3))\n",
        "x=cv.fit_transform(corpus)\n",
        "x[0].toarray()"
      ],
      "metadata": {
        "colab": {
          "base_uri": "https://localhost:8080/"
        },
        "id": "0fta6_4nPGLt",
        "outputId": "0a2f0687-1a1a-4621-a4ea-1d1632c66cfa"
      },
      "execution_count": 27,
      "outputs": [
        {
          "output_type": "execute_result",
          "data": {
            "text/plain": [
              "array([[0.        , 0.        , 0.        , 0.        , 0.24253563,\n",
              "        0.        , 0.        , 0.        , 0.        , 0.        ,\n",
              "        0.        , 0.        , 0.        , 0.        , 0.        ,\n",
              "        0.24253563, 0.        , 0.        , 0.        , 0.        ,\n",
              "        0.        , 0.        , 0.        , 0.        , 0.        ,\n",
              "        0.        , 0.        , 0.24253563, 0.        , 0.        ,\n",
              "        0.        , 0.        , 0.        , 0.        , 0.        ,\n",
              "        0.        , 0.        , 0.        , 0.24253563, 0.        ,\n",
              "        0.        , 0.        , 0.        , 0.        , 0.        ,\n",
              "        0.        , 0.        , 0.        , 0.        , 0.        ,\n",
              "        0.        , 0.        , 0.        , 0.        , 0.        ,\n",
              "        0.        , 0.        , 0.        , 0.        , 0.        ,\n",
              "        0.        , 0.        , 0.        , 0.24253563, 0.        ,\n",
              "        0.        , 0.        , 0.        , 0.        , 0.        ,\n",
              "        0.        , 0.        , 0.        , 0.        , 0.        ,\n",
              "        0.        , 0.        , 0.        , 0.        , 0.        ,\n",
              "        0.        , 0.        , 0.        , 0.        , 0.        ,\n",
              "        0.        , 0.        , 0.        , 0.24253563, 0.        ,\n",
              "        0.        , 0.        , 0.        , 0.24253563, 0.        ,\n",
              "        0.        , 0.        , 0.        , 0.        , 0.        ,\n",
              "        0.        , 0.        , 0.        , 0.        , 0.        ,\n",
              "        0.        , 0.        , 0.        , 0.24253563, 0.        ,\n",
              "        0.        , 0.24253563, 0.        , 0.        , 0.        ,\n",
              "        0.        , 0.        , 0.24253563, 0.        , 0.        ,\n",
              "        0.        , 0.        , 0.        , 0.24253563, 0.        ,\n",
              "        0.        , 0.        , 0.        , 0.        , 0.        ,\n",
              "        0.        , 0.        , 0.        , 0.        , 0.        ,\n",
              "        0.        , 0.        , 0.        , 0.        , 0.24253563,\n",
              "        0.        , 0.        , 0.24253563, 0.        , 0.        ,\n",
              "        0.        , 0.        , 0.        , 0.        , 0.        ,\n",
              "        0.        , 0.        , 0.        , 0.        , 0.        ,\n",
              "        0.        , 0.        , 0.24253563, 0.24253563, 0.        ,\n",
              "        0.        , 0.        , 0.        , 0.        , 0.        ,\n",
              "        0.        , 0.        , 0.        , 0.        , 0.        ,\n",
              "        0.        , 0.        , 0.        , 0.        , 0.        ,\n",
              "        0.        , 0.        , 0.        , 0.24253563, 0.        ,\n",
              "        0.        , 0.        , 0.        , 0.        , 0.        ,\n",
              "        0.        , 0.        , 0.        , 0.        , 0.        ,\n",
              "        0.        , 0.        , 0.        , 0.        , 0.        ,\n",
              "        0.        , 0.        , 0.        , 0.        , 0.        ,\n",
              "        0.        , 0.        , 0.        , 0.        , 0.24253563,\n",
              "        0.        , 0.        , 0.        ]])"
            ]
          },
          "metadata": {},
          "execution_count": 27
        }
      ]
    },
    {
      "cell_type": "code",
      "source": [
        "cv=TfidfVectorizer(ngram_range=(1,1),max_features=10)  #top 10 max features\n",
        "x=cv.fit_transform(corpus)\n",
        "x[0].toarray()"
      ],
      "metadata": {
        "colab": {
          "base_uri": "https://localhost:8080/"
        },
        "id": "qGX0SpHCPnpz",
        "outputId": "1fd28124-ab27-4b15-f118-ad6a1b97e15e"
      },
      "execution_count": 31,
      "outputs": [
        {
          "output_type": "execute_result",
          "data": {
            "text/plain": [
              "array([[0.        , 0.        , 0.        , 0.        , 0.        ,\n",
              "        0.57466121, 0.57466121, 0.44325675, 0.37822273, 0.        ]])"
            ]
          },
          "metadata": {},
          "execution_count": 31
        }
      ]
    }
  ],
  "metadata": {
    "colab": {
      "provenance": [],
      "authorship_tag": "ABX9TyOalOJwdkOdam8Y1qRF8UF6",
      "include_colab_link": true
    },
    "kernelspec": {
      "display_name": "Python 3",
      "name": "python3"
    },
    "language_info": {
      "name": "python"
    }
  },
  "nbformat": 4,
  "nbformat_minor": 0
}